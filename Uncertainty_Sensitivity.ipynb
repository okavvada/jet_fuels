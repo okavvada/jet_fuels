{
 "cells": [
  {
   "cell_type": "code",
   "execution_count": 1,
   "metadata": {
    "collapsed": true
   },
   "outputs": [],
   "source": [
    "import pandas as pd\n",
    "import json\n",
    "from ParameterValues_MonteCarlo import ParameterValues\n",
    "import matplotlib.pyplot as plt\n",
    "%matplotlib inline"
   ]
  },
  {
   "cell_type": "code",
   "execution_count": 2,
   "metadata": {
    "collapsed": true
   },
   "outputs": [],
   "source": [
    "SuperPro_names = {\n",
    "    \"Corn Liquor\": \"csl.kg\",\n",
    "    \"Diammonium phos\": \"dap.kg\",\n",
    "    \"EMIM Acetate\": \"ionicLiquid_amount\",\n",
    "    \"ChLy\": \"ionicLiquid_amount\",\n",
    "    \"Hydrolase\": \"cellulase_amount\",\n",
    "    \"Methane\": \"ng_input_stream_MJ\",\n",
    "    \"NaOH (50% w/w)\": \"naoh.kg\",\n",
    "    \"Octane\": \"octane_ltr\",\n",
    "    \"Std Power\": \"electricity\",\n",
    "    \"Stover\": \"feedstock.kg\",\n",
    "    \"WWT nutrients\": \"caoh.kg\",\n",
    "    \"Sulfuric Acid\": \"acid.kg\",\n",
    "    \"Water\": \"water_direct_consumption\",\n",
    "    \"Hydrogen\": \"h2.kg\",\n",
    "    \"Inoculum\": \"inoculum.kg\",\n",
    "    \"CIP2\": \"cip2.kg\",\n",
    "    \"AlCl3\": \"alcl3.kg\", \n",
    "    \"dehydrating Cat\": \"cat.kg\",\n",
    "    \"Ru\": \"ru.kg\",\n",
    "    \"Pd/AC Catalyst\": \"PdAC_catalyst.kg\",\n",
    "    \"Cooling Water\": \"cooling_water\",\n",
    "    \"CoolingWater25C\": \"cooling_water25\",\n",
    "    \"Chilled Water\": \"chilled_water\"\n",
    "}\n",
    "\n",
    "sections_translate = {  \"Feedstock supply logistics\": \"Feedstock_Supply_Logistics\",\n",
    "                        \"Feedstock handling\": \"Feedstock_Handling_and_Preparation\", \n",
    "                        \"Pretreatment\": \"IL_Pretreatment\", \n",
    "                        \"Hydrolysis and fermentation\": \"Enzymatic_Hydrolysis_and_Fermentation\", \n",
    "                        \"Wastewater treatment\": \"Wastewater_Treatment\",\n",
    "                        \"Hydrogenation\": \"Hydrogeneration_and_Oligomerization\",\n",
    "                        \"Recovery and separation\": \"Recovery_and_Separation\", \n",
    "                        \"Lignin utilization\": \"Lignin_Utilization\"}\n",
    "\n",
    "catalysts = {\n",
    "            \"alcl3\": 1.91,\n",
    "            \"ru\": 10,\n",
    "            \"deh_cat\": 3.75,\n",
    "            \"PdAC_catalyst\": 8.308\n",
    "}\n",
    "\n",
    "hhv_fuels = {\n",
    "    '1,8-cineole':46.6,\n",
    "    'Bisabolene':46.68,\n",
    "    'Epi-isozizaene':46.68,\n",
    "    'Limonene':45.04,\n",
    "    'Linalool':42.18,\n",
    "}\n",
    "\n",
    "fuels = ['1,8-cineole', 'Bisabolene', 'Epi-isozizaene', 'Limonene', 'Linalool']"
   ]
  },
  {
   "cell_type": "code",
   "execution_count": 3,
   "metadata": {
    "collapsed": true
   },
   "outputs": [],
   "source": [
    "def convertDfToDict(data):\n",
    "    final_dict = {}\n",
    "    grouped = data.groupby(data.columns[0])\n",
    "    for process in processes:\n",
    "        new_process_name = sections_translate[process]\n",
    "        d={}\n",
    "        for i, row in grouped.get_group(process).iterrows():\n",
    "            if 'Steam' in row['Material']:\n",
    "                new_material_name = 'steam_low'\n",
    "                \n",
    "            elif row['Material'] not in SuperPro_names.keys():\n",
    "                new_material_name = row['Material']\n",
    "            else:\n",
    "                new_material_name = SuperPro_names[row['Material']]\n",
    "            if 'Methane' in row['Material']:\n",
    "                d.update({new_material_name:{'Baseline': row['Baseline'],\n",
    "                                              'Minimum': row['Minimum '],\n",
    "                                             'Maximum': row['Maximum'],\n",
    "                                             'Std_Dev': row['Std_Dev']}})\n",
    "            \n",
    "            else:\n",
    "                d.update({new_material_name:{'Baseline': row['Baseline'],\n",
    "                                              'Minimum': row['Minimum '],\n",
    "                                             'Maximum': row['Maximum'],\n",
    "                                             'Std_Dev': row['Std_Dev']}})\n",
    "        final_dict.update({new_process_name:d})\n",
    "    return final_dict"
   ]
  },
  {
   "cell_type": "code",
   "execution_count": 4,
   "metadata": {},
   "outputs": [],
   "source": [
    "for fuel in fuels:\n",
    "    data = pd.read_csv('data/Risk/{}.csv'.format(fuel))\n",
    "    processes = list(data['Process'].unique())\n",
    "    risk_params = convertDfToDict(data)\n",
    "    path = 'static/scenarios/SuperPro_data_Aerobic_Cholinium lysinate_{}_BY_ICR.js'.format(fuel)\n",
    "    parameters = json.load(open(path))\n",
    "    \n",
    "    Params = ParameterValues(parameters, risk_params)\n",
    "    sensi_params = Params.sensitivity(catalysts, fuel, 'ChLys', hhv_fuels[fuel])\n",
    "    \n",
    "    final_df = pd.DataFrame()\n",
    "    for process in sensi_params.keys():\n",
    "        if (process == 'credits'):\n",
    "            break\n",
    "        else:\n",
    "            datafr = pd.DataFrame.from_dict(sensi_params[process]).T\n",
    "            datafr['Process'] = process\n",
    "            final_df = final_df.append(datafr)\n",
    "    final_df=final_df.reset_index()\n",
    "    final_df = final_df.rename(index=str, columns={'index': 'Material'})\n",
    "    final_df.to_csv('results_cooling_water/sensitivity_{}_coolingwater.csv'.format(fuel))"
   ]
  },
  {
   "cell_type": "code",
   "execution_count": 5,
   "metadata": {},
   "outputs": [],
   "source": [
    "for fuel in fuels:\n",
    "    final_df = pd.DataFrame()\n",
    "    data = pd.read_csv('data/Risk/{}.csv'.format(fuel))\n",
    "    processes = list(data['Process'].unique())\n",
    "    risk_params = convertDfToDict(data)\n",
    "    path = 'static/scenarios/SuperPro_data_Aerobic_Cholinium lysinate_{}_BY_ICR.js'.format(fuel)\n",
    "    parameters = json.load(open(path))\n",
    "    Params = ParameterValues(parameters, risk_params)\n",
    "    for i in range(5000):\n",
    "        uncertain_df = Params.uncertainty(catalysts, fuel, 'ChLys', hhv_fuels[fuel])\n",
    "        final_df = final_df.append(uncertain_df)\n",
    "    final_df.to_csv('results_cooling_water/uncertainty_{}_coolingwater.csv'.format(fuel))"
   ]
  },
  {
   "cell_type": "code",
   "execution_count": 8,
   "metadata": {},
   "outputs": [
    {
     "data": {
      "text/plain": [
       "<matplotlib.axes._subplots.AxesSubplot at 0x10bca3bd0>"
      ]
     },
     "execution_count": 8,
     "metadata": {},
     "output_type": "execute_result"
    },
    {
     "data": {
      "image/png": "[encoded data removed]",
      "text/plain": [
       "<matplotlib.figure.Figure at 0x10bc62690>"
      ]
     },
     "metadata": {},
     "output_type": "display_data"
    }
   ],
   "source": [
    "final_df['Total_gCO2_MJ_net'].hist(bins=100)"
   ]
  },
  {
   "cell_type": "code",
   "execution_count": null,
   "metadata": {
    "collapsed": true
   },
   "outputs": [],
   "source": []
  }
 ],
 "metadata": {
  "kernelspec": {
   "display_name": "Python 2",
   "language": "python",
   "name": "python2"
  },
  "language_info": {
   "codemirror_mode": {
    "name": "ipython",
    "version": 2
   },
   "file_extension": ".py",
   "mimetype": "text/x-python",
   "name": "python",
   "nbconvert_exporter": "python",
   "pygments_lexer": "ipython2",
   "version": "2.7.14"
  }
 },
 "nbformat": 4,
 "nbformat_minor": 2
}
