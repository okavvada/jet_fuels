{
 "cells": [
  {
   "cell_type": "code",
   "execution_count": 1,
   "metadata": {
    "collapsed": true
   },
   "outputs": [],
   "source": [
    "from __future__ import division\n",
    "import xlrd\n",
    "import pandas as pd"
   ]
  },
  {
   "cell_type": "code",
   "execution_count": 2,
   "metadata": {
    "collapsed": true
   },
   "outputs": [],
   "source": [
    "workbook = xlrd.open_workbook('../input_data/SuperPro Result V1.xls')"
   ]
  },
  {
   "cell_type": "code",
   "execution_count": 3,
   "metadata": {
    "collapsed": true
   },
   "outputs": [],
   "source": [
    "worksheet = workbook.sheet_by_index(0)"
   ]
  },
  {
   "cell_type": "code",
   "execution_count": 95,
   "metadata": {},
   "outputs": [
    {
     "name": "stdout",
     "output_type": "stream",
     "text": [
      "(240, 255)\n"
     ]
    }
   ],
   "source": [
    "for row, title in enumerate(worksheet.col_values(1)):\n",
    "    if title == 'Bulk Material':\n",
    "        start_row = row\n",
    "        for row, title in enumerate(worksheet.col_values(1)[start_row:]):\n",
    "            if title == 'TOTAL':\n",
    "                end_row = start_row+row\n",
    "                break\n",
    "        print(start_row, end_row)\n",
    "value_index = worksheet.row_values(start_row).index(\"Annual\\nAmount\")\n",
    "unit_index = value_index + 1 + next(i for i, j in enumerate(worksheet.row_values(start_row+1)[value_index+1:]) if j)"
   ]
  },
  {
   "cell_type": "code",
   "execution_count": 67,
   "metadata": {
    "collapsed": true
   },
   "outputs": [],
   "source": [
    "results = {}\n",
    "for row, item in enumerate(worksheet.col_values(1)[start_row+1:end_row]):\n",
    "    results.update({item: [worksheet.cell(start_row+row+1, value_index).value, worksheet.cell(start_row+row+1, unit_index).value]})"
   ]
  },
  {
   "cell_type": "code",
   "execution_count": 68,
   "metadata": {
    "collapsed": true
   },
   "outputs": [],
   "source": [
    "for row, title in enumerate(worksheet.col_values(1)):\n",
    "    if title == 'Utility':\n",
    "        start_row = row\n",
    "        for row, title in enumerate(worksheet.col_values(1)[start_row:]):\n",
    "            if title == 'TOTAL':\n",
    "                end_row = start_row+row\n",
    "                break\n",
    "value_index = worksheet.row_values(start_row).index(\"Annual\\nAmount\")\n",
    "unit_index = value_index + 1 + next(i for i, j in enumerate(worksheet.row_values(start_row+1)[value_index+1:]) if j)"
   ]
  },
  {
   "cell_type": "code",
   "execution_count": 69,
   "metadata": {
    "collapsed": true
   },
   "outputs": [],
   "source": [
    "for row, item in enumerate(worksheet.col_values(1)[start_row+1:end_row]):\n",
    "    results.update({item: [worksheet.cell(start_row+row+1, value_index).value, worksheet.cell(start_row+row+1, unit_index).value]})"
   ]
  },
  {
   "cell_type": "code",
   "execution_count": 101,
   "metadata": {
    "collapsed": true
   },
   "outputs": [],
   "source": [
    "import SuperPro_names as SP_names"
   ]
  },
  {
   "cell_type": "code",
   "execution_count": 103,
   "metadata": {},
   "outputs": [
    {
     "data": {
      "text/plain": [
       "{'Corn Liquor': 'csl.kg',\n",
       " 'Diammonium phos': 'dap.kg',\n",
       " 'EMIM Acetate': 'ionicLiquid_amount',\n",
       " 'Hydrolase': 'cellulase_amount',\n",
       " 'Methane': 'ng_input_stream_MJ',\n",
       " 'NaOH (50% w/w)': 'naoh.kg',\n",
       " 'Octane': 'octane_ltr',\n",
       " 'Std Power': 'electricity_requirements',\n",
       " 'Stover': 'feedstock',\n",
       " 'WWT nutrients': 'caoh.kg'}"
      ]
     },
     "execution_count": 103,
     "metadata": {},
     "output_type": "execute_result"
    }
   ],
   "source": [
    "SP_names.SuperPro_names"
   ]
  },
  {
   "cell_type": "code",
   "execution_count": 71,
   "metadata": {
    "collapsed": true
   },
   "outputs": [],
   "source": [
    "results_names = {}\n",
    "for key, value in translate.SuperPro_names.iteritems():\n",
    "    if key in results.keys():\n",
    "        results_names.update({value:results[key]})"
   ]
  },
  {
   "cell_type": "code",
   "execution_count": 72,
   "metadata": {
    "collapsed": true
   },
   "outputs": [],
   "source": [
    "unit_types = {\n",
    "    \"mass\": ['kg', 'g', 'lb'],\n",
    "    \"volume\": ['l', 'ft3(STP)', 'gal(STP)', 'ml', 'km3(STP)', 'm3(STP)', 'cm3(STP)', 'oz'],\n",
    "}"
   ]
  },
  {
   "cell_type": "code",
   "execution_count": 73,
   "metadata": {
    "collapsed": true
   },
   "outputs": [],
   "source": [
    "unit_translate = {\n",
    "    'kg': 'kg', \n",
    "    'g': 'g',\n",
    "    'oz': 'oz',\n",
    "    'lb': 'lb',\n",
    "    'MT': 'MT',\n",
    "    'ton': 'ton',\n",
    "    'Ml': 'megaliters', \n",
    "    'kl': 'kiloliters', \n",
    "    'l': 'l', \n",
    "    'ml': 'ml', \n",
    "    'ft3(STP)': 'ft3',\n",
    "    'gal(STP)': 'gal',\n",
    "    'kW-h': 'kW-h',\n",
    "}"
   ]
  },
  {
   "cell_type": "code",
   "execution_count": 74,
   "metadata": {
    "collapsed": true
   },
   "outputs": [],
   "source": [
    "from unitconvert import massunits, volumeunits"
   ]
  },
  {
   "cell_type": "code",
   "execution_count": 75,
   "metadata": {
    "collapsed": true
   },
   "outputs": [],
   "source": [
    "results_units = {}\n",
    "for key, value in results_names.iteritems():\n",
    "    unit = unit_translate[value[1]]\n",
    "    if value[1] in unit_types['mass']:\n",
    "        real_unit = massunits.MassUnit(value[0], unit, 'kg').doconvert()\n",
    "    elif value[1] in unit_types['volume']:\n",
    "        real_unit = volumeunits.VolumeUnit(value[0], unit, 'l').doconvert()         \n",
    "    else:\n",
    "        if value[1] == 'ton':\n",
    "            real_unit = value[0]* 907.18500036199\n",
    "        elif value[1] == 'MT':\n",
    "            real_unit = value[0]* 1000\n",
    "        else:\n",
    "            real_unit = value[0]\n",
    "                \n",
    "    results_units.update({key:real_unit})   "
   ]
  },
  {
   "cell_type": "code",
   "execution_count": 76,
   "metadata": {
    "collapsed": true
   },
   "outputs": [],
   "source": [
    "import unit_conversions_and_mw.feedstock_conversions as feedconv"
   ]
  },
  {
   "cell_type": "code",
   "execution_count": 153,
   "metadata": {},
   "outputs": [],
   "source": [
    "def getMaterialsPerSection(results, worksheet, section):\n",
    "    results.update({section:{}})\n",
    "    if section == \"Feedstock supply logistics\":\n",
    "        return results\n",
    "    for row, title in enumerate(worksheet.col_values(0)):\n",
    "        if title == '4.1.2 MATERIAL COST - BREAKDOWN BY SECTION':\n",
    "            start_row = row\n",
    "        if title == '4.1.3 MATERIAL COST - BREAKDOWN BY MATERIAL TYPE':\n",
    "            end_row = row\n",
    "    for row, title in enumerate(worksheet.col_values(0)[start_row:end_row]):\n",
    "        if title == section:\n",
    "            pretreat_start_row = start_row+row\n",
    "            for row, title in enumerate(worksheet.col_values(0)[pretreat_start_row:end_row]):\n",
    "                if title == 'TOTAL':\n",
    "                    pretreat_end_row = pretreat_start_row+row\n",
    "                    break\n",
    "            for rows in np.arange(pretreat_start_row+2, pretreat_end_row):\n",
    "                values = [worksheet.cell(rows, 2).value,worksheet.cell(rows, 3).value]\n",
    "                results[section].update({worksheet.cell(rows, 0).value:values})\n",
    "        else:\n",
    "            continue\n",
    "\n",
    "    return results"
   ]
  },
  {
   "cell_type": "code",
   "execution_count": 197,
   "metadata": {
    "collapsed": true
   },
   "outputs": [],
   "source": [
    "def getUtilitiesPerSection(results, worksheet, section):\n",
    "    for row, title in enumerate(worksheet.col_values(0)):\n",
    "        if title == '8.2 UTILITIES COST - BREAKDOWN BY SECTION':\n",
    "            start_row = row\n",
    "        if title == '8.3 UTILITIES COST - BREAKDOWN BY UTILITY TYPE':\n",
    "            end_row = row\n",
    "    for row, title in enumerate(worksheet.col_values(0)[start_row:end_row]):\n",
    "        if title == section:\n",
    "            start_section = start_row + row\n",
    "            end_section = end_row\n",
    "            for row, title in enumerate(worksheet.col_values(0)[start_section+1:end_row]):\n",
    "                if (title in sections):\n",
    "                    end_section = start_section + row\n",
    "                    break\n",
    "            for row, title in enumerate(worksheet.col_values(0)[start_section:end_section]):\n",
    "                if title == 'Utility':\n",
    "                    utility_start_row = start_section + row\n",
    "                    for row, title in enumerate(worksheet.col_values(0)[utility_start_row:end_row]):\n",
    "                        if title == 'TOTAL':\n",
    "                            utility_end_row = utility_start_row+row\n",
    "                            break\n",
    "                    for rows in np.arange(utility_start_row+1, utility_end_row):\n",
    "                        values = [worksheet.cell(rows, 2).value,worksheet.cell(rows, 3).value]\n",
    "                        if section in results.keys():\n",
    "                            results[section].update({worksheet.cell(rows, 0).value:values})\n",
    "                        else:\n",
    "                            results.update({section:{}})\n",
    "                            results[section].update({worksheet.cell(rows, 0).value:values})\n",
    "        else:\n",
    "            continue\n",
    "\n",
    "    return results"
   ]
  },
  {
   "cell_type": "code",
   "execution_count": 253,
   "metadata": {
    "collapsed": true
   },
   "outputs": [],
   "source": [
    "def setSIUnits(result_json):\n",
    "    results_units = {}\n",
    "    for key, value in result_json.iteritems():\n",
    "        if (isinstance(value[0], numbers.Number) == False) and (',' in value[0]):\n",
    "            value[0] = value[0].replace(',','')\n",
    "        value[0] = float(value[0])\n",
    "        unit = unit_translate[value[1]]\n",
    "        if value[1] in unit_types['mass']:\n",
    "            real_unit = massunits.MassUnit(value[0], unit, 'kg').doconvert()\n",
    "        elif value[1] in unit_types['volume']:\n",
    "            real_unit = volumeunits.VolumeUnit(value[0], unit, 'l').doconvert()         \n",
    "        else:\n",
    "            if value[1] == 'ton':\n",
    "                real_unit = value[0] * 907.18500036199\n",
    "            elif value[1] == 'MT':\n",
    "                real_unit = value[0] * 1000\n",
    "            else:\n",
    "                real_unit = value[0]\n",
    "\n",
    "        results_units.update({key:real_unit})\n",
    "    return results_units"
   ]
  },
  {
   "cell_type": "code",
   "execution_count": null,
   "metadata": {
    "collapsed": true
   },
   "outputs": [],
   "source": []
  },
  {
   "cell_type": "code",
   "execution_count": 204,
   "metadata": {
    "collapsed": true
   },
   "outputs": [],
   "source": [
    "unit_types = {\n",
    "    \"mass\": ['kg', 'g', 'lb'],\n",
    "    \"volume\": ['l', 'ft3(STP)', 'gal(STP)', 'ml', 'km3(STP)', 'm3(STP)', 'cm3(STP)', 'oz'],\n",
    "}\n",
    "\n",
    "unit_translate = {\n",
    "    'kg': 'kg', \n",
    "    'g': 'g',\n",
    "    'oz': 'oz',\n",
    "    'lb': 'lb',\n",
    "    'MT': 'MT',\n",
    "    'ton': 'ton',\n",
    "    'Ml': 'megaliters', \n",
    "    'kl': 'kiloliters', \n",
    "    'l': 'l', \n",
    "    'ml': 'ml', \n",
    "    'ft3(STP)': 'ft3',\n",
    "    'gal(STP)': 'gal',\n",
    "    'kW-h': 'kW-h',\n",
    "}"
   ]
  },
  {
   "cell_type": "code",
   "execution_count": 207,
   "metadata": {
    "collapsed": true
   },
   "outputs": [],
   "source": [
    "from unitconvert import massunits, volumeunits"
   ]
  },
  {
   "cell_type": "code",
   "execution_count": 245,
   "metadata": {
    "collapsed": true
   },
   "outputs": [],
   "source": [
    "import numbers\n",
    "import decimal\n"
   ]
  },
  {
   "cell_type": "code",
   "execution_count": 198,
   "metadata": {
    "collapsed": true
   },
   "outputs": [],
   "source": [
    "sections = [\"Feedstock supply logistics\", \"Feedstock handling\", \"Pretreatment\", \"Hydrolysis and fermentation\", \"Wastewater treatment\", \"Hydrogenation\",\n",
    "\t\t\t\"Recovery and separation\", \"Lignin utilization\"]"
   ]
  },
  {
   "cell_type": "code",
   "execution_count": 249,
   "metadata": {},
   "outputs": [],
   "source": [
    "results = {}\n",
    "for section in sections:\n",
    "    results = getMaterialsPerSection(results, section)\n",
    "    results = getUtilitiesPerSection(results, section)"
   ]
  },
  {
   "cell_type": "code",
   "execution_count": 257,
   "metadata": {},
   "outputs": [
    {
     "data": {
      "text/plain": [
       "{'Feedstock handling': {u'Std Power': [32413067.0, u'kW-h']},\n",
       " 'Feedstock supply logistics': {u'Std Power': [19490.0, u'kW-h']},\n",
       " 'Hydrogenation': {u'Chilled Water': [260225.0, u'MT'],\n",
       "  u'Cooling Water': [1914922.0, u'MT'],\n",
       "  u'Hydrogen': [1463293.0, u'kg'],\n",
       "  u'Std Power': [456938.0, u'kW-h'],\n",
       "  u'Steam 1000C': [83.0, u'MT']},\n",
       " 'Hydrolysis and fermentation': {u'Air': [6732616649.0, u'kg'],\n",
       "  u'Cooling Water': [11733569.0, u'MT'],\n",
       "  u'Corn Liquor': [6925.0, u'ton'],\n",
       "  u'Diammonium phos': [1761161.0, u'lb'],\n",
       "  u'E coli': [24.0, u'kg'],\n",
       "  u'Hydrolase': [4301050.0, u'kg'],\n",
       "  u'Std Power': [88977035.0, u'kW-h'],\n",
       "  u'Steam152C': [27367.0, u'MT'],\n",
       "  u'Water': [642425590.0, u'kg']},\n",
       " 'Lignin utilization': {u'Cooling Water': [38860557.0, u'MT'],\n",
       "  u'Std Power': [50987765.0, u'kW-h'],\n",
       "  u'Steam242C': [1235156.0, u'MT']},\n",
       " 'Pretreatment': {u'ChLy': [6313982.0, u'kg'],\n",
       "  u'Std Power': [4412640.0, u'kW-h'],\n",
       "  u'Steam242C': [61244.0, u'MT'],\n",
       "  u'Sulfuric Acid': [2.0, u'ton'],\n",
       "  u'Water': [368211384.0, u'kg']},\n",
       " 'Recovery and separation': {u'Cooling Water': [166409511.0, u'MT'],\n",
       "  u'Std Power': [45854135.0, u'kW-h'],\n",
       "  u'Steam 1000C': [553492.0, u'MT'],\n",
       "  u'Steam152C': [465887.0, u'MT'],\n",
       "  u'Steam242C': [16887.0, u'MT']},\n",
       " 'Wastewater treatment': {u'CIP2': [3168000.0, u'kg'],\n",
       "  u'Std Power': [56609504.0, u'kW-h'],\n",
       "  u'Steam152C': [16359.0, u'MT'],\n",
       "  u'Steam242C': [5969.0, u'MT'],\n",
       "  u'WWT nutrients': [396000.0, u'kg'],\n",
       "  u'Water': [1165032000.0, u'kg']}}"
      ]
     },
     "execution_count": 257,
     "metadata": {},
     "output_type": "execute_result"
    }
   ],
   "source": [
    "def getMaterialsPerSection(results, worksheet, section):\n",
    "    results.update({section:{}}) \n",
    "    for row, title in enumerate(worksheet.col_values(0)):\n",
    "        if title == '4.1.2 MATERIAL COST - BREAKDOWN BY SECTION':\n",
    "            start_row = row\n",
    "        if title == '4.1.3 MATERIAL COST - BREAKDOWN BY MATERIAL TYPE':\n",
    "            end_row = row\n",
    "    for row, title in enumerate(worksheet.col_values(0)[start_row:end_row]):\n",
    "        if title == section:\n",
    "            pretreat_start_row = start_row+row   \n",
    "            for row, title in enumerate(worksheet.col_values(0)[pretreat_start_row:end_row]):\n",
    "                if title == 'TOTAL':\n",
    "                    pretreat_end_row = pretreat_start_row+row\n",
    "                    break\n",
    "            if title == \"Feedstock supply logistics\":\n",
    "                value_sum = 0\n",
    "                for rows in np.arange(pretreat_start_row+2, pretreat_end_row-1):\n",
    "                    value_sum += worksheet.cell(rows, 2).value\n",
    "                values = [value_sum,worksheet.cell(rows, 3).value]\n",
    "                results[section].update({'Stover':values})\n",
    "            else:\n",
    "                for rows in np.arange(pretreat_start_row+2, pretreat_end_row):\n",
    "                    values = [worksheet.cell(rows, 2).value,worksheet.cell(rows, 3).value]\n",
    "                    results[section].update({worksheet.cell(rows, 0).value:values})\n",
    "        else:\n",
    "            continue"
   ]
  },
  {
   "cell_type": "code",
   "execution_count": 255,
   "metadata": {},
   "outputs": [],
   "source": [
    "final_untis = {}\n",
    "for sector in results.keys():\n",
    "    units = setSIUnits(results[sector])\n",
    "    final_untis.update({sector:units})"
   ]
  },
  {
   "cell_type": "code",
   "execution_count": 256,
   "metadata": {},
   "outputs": [
    {
     "data": {
      "text/plain": [
       "{'Feedstock handling': {u'Std Power': 32413067.0},\n",
       " 'Feedstock supply logistics': {u'Std Power': 19490.0},\n",
       " 'Hydrogenation': {u'Chilled Water': 260225000.0,\n",
       "  u'Cooling Water': 1914922000.0,\n",
       "  u'Hydrogen': 1463293.0,\n",
       "  u'Std Power': 456938.0,\n",
       "  u'Steam 1000C': 83000.0},\n",
       " 'Hydrolysis and fermentation': {u'Air': 6732616649.0,\n",
       "  u'Cooling Water': 11733569000.0,\n",
       "  u'Corn Liquor': 6282256.12750678,\n",
       "  u'Diammonium phos': 798849.19194157,\n",
       "  u'E coli': 24.0,\n",
       "  u'Hydrolase': 4301050.0,\n",
       "  u'Std Power': 88977035.0,\n",
       "  u'Steam152C': 27367000.0,\n",
       "  u'Water': 642425590.0},\n",
       " 'Lignin utilization': {u'Cooling Water': 38860557000.0,\n",
       "  u'Std Power': 50987765.0,\n",
       "  u'Steam242C': 1235156000.0},\n",
       " 'Pretreatment': {u'ChLy': 6313982.0,\n",
       "  u'Std Power': 4412640.0,\n",
       "  u'Steam242C': 61244000.0,\n",
       "  u'Sulfuric Acid': 1814.37000072398,\n",
       "  u'Water': 368211384.0},\n",
       " 'Recovery and separation': {u'Cooling Water': 166409511000.0,\n",
       "  u'Std Power': 45854135.0,\n",
       "  u'Steam 1000C': 553492000.0,\n",
       "  u'Steam152C': 465887000.0,\n",
       "  u'Steam242C': 16887000.0},\n",
       " 'Wastewater treatment': {u'CIP2': 3168000.0,\n",
       "  u'Std Power': 56609504.0,\n",
       "  u'Steam152C': 16359000.0,\n",
       "  u'Steam242C': 5969000.0,\n",
       "  u'WWT nutrients': 396000.0,\n",
       "  u'Water': 1165032000.0}}"
      ]
     },
     "execution_count": 256,
     "metadata": {},
     "output_type": "execute_result"
    }
   ],
   "source": [
    "def getEthanolProduced(worksheet):\n",
    "    for row, title in enumerate(worksheet.col_values(1)):\n",
    "        if title == 'Cost Basis Annual Rate':\n",
    "            value_index = next(i for i, j in enumerate(worksheet.row_values(18)[2:]) if j) + 2\n",
    "            unit_index = next(i for i, j in enumerate(worksheet.row_values(18)[value_index+1:]) if j) + value_index + 1\n",
    "            ethanol_val = worksheet.cell(row, value_index).value\n",
    "            ethanol_unit = worksheet.cell(row, unit_index).value\n",
    "    return [ethanol_val, ethanol_unit]"
   ]
  },
  {
   "cell_type": "code",
   "execution_count": 258,
   "metadata": {
    "collapsed": true
   },
   "outputs": [],
   "source": [
    "for row, title in enumerate(worksheet.col_values(0)):\n",
    "    if title == 'Unit Production Ref. Rate':\n",
    "        amount = worksheet.cell(row, 1).value\n",
    "        unit = worksheet.cell(row, 2).value\n",
    "        if (isinstance(amount, numbers.Number) == False) and (',' in amount):\n",
    "            amount = amount.replace(',','')\n",
    "        amount = float(amount)\n",
    "    return [amount, unit]\n"
   ]
  },
  {
   "cell_type": "code",
   "execution_count": 259,
   "metadata": {},
   "outputs": [
    {
     "data": {
      "text/plain": [
       "u'30,213,790'"
      ]
     },
     "execution_count": 259,
     "metadata": {},
     "output_type": "execute_result"
    }
   ],
   "source": [
    "amount"
   ]
  },
  {
   "cell_type": "code",
   "execution_count": 195,
   "metadata": {},
   "outputs": [],
   "source": [
    "for row, title in enumerate(worksheet.col_values(0)):\n",
    "    if title == '8.2 UTILITIES COST - BREAKDOWN BY SECTION':\n",
    "        start_row = row\n",
    "    if title == '8.3 UTILITIES COST - BREAKDOWN BY UTILITY TYPE':\n",
    "        end_row = row\n",
    "for row, title in enumerate(worksheet.col_values(0)[start_row:end_row]):\n",
    "    if title == section:\n",
    "        start_section = start_row + row\n",
    "        end_section = end_row\n",
    "        for row, title in enumerate(worksheet.col_values(0)[start_section+1:end_row]):\n",
    "            if (title in sections):\n",
    "                end_section = start_section + row\n",
    "                break\n",
    "        for row, title in enumerate(worksheet.col_values(0)[start_section:end_section]):\n",
    "            if title == 'Utility':\n",
    "                utility_start_row = start_section + row\n",
    "                for row, title in enumerate(worksheet.col_values(0)[utility_start_row:end_row]):\n",
    "                    if title == 'TOTAL':\n",
    "                        utility_end_row = utility_start_row+row\n",
    "                        break\n",
    "                for rows in np.arange(utility_start_row+1, utility_end_row):\n",
    "                    values = [worksheet.cell(rows, 2).value,worksheet.cell(rows, 3).value]\n",
    "                    if section in results.keys():\n",
    "                        results[section].update({worksheet.cell(rows, 0).value:values})\n",
    "                    else:\n",
    "                        results.update({section:{}})\n",
    "                        results[section].update({worksheet.cell(rows, 0).value:values})"
   ]
  },
  {
   "cell_type": "code",
   "execution_count": 196,
   "metadata": {},
   "outputs": [
    {
     "data": {
      "text/plain": [
       "{'Pretreatment': {u'Std Power': [u'4,412,640', u'kW-h'],\n",
       "  u'Steam242C': [u'61,244', u'MT']}}"
      ]
     },
     "execution_count": 196,
     "metadata": {},
     "output_type": "execute_result"
    }
   ],
   "source": [
    "results"
   ]
  },
  {
   "cell_type": "code",
   "execution_count": 77,
   "metadata": {
    "collapsed": true
   },
   "outputs": [],
   "source": [
    "for row, title in enumerate(worksheet.col_values(1)):\n",
    "    if title == 'Cost Basis Annual Rate':\n",
    "        value_index = next(i for i, j in enumerate(worksheet.row_values(18)[2:]) if j) + 2\n",
    "        unit_index = next(i for i, j in enumerate(worksheet.row_values(18)[value_index+1:]) if j) + value_index + 1\n",
    "        ethanol_gal = worksheet.cell(row, value_index).value\n",
    "        ethanol_unit = worksheet.cell(row, unit_index).value"
   ]
  },
  {
   "cell_type": "code",
   "execution_count": 79,
   "metadata": {
    "collapsed": true
   },
   "outputs": [],
   "source": [
    "feedstock = 'corn_stover'\n",
    "feedstock_amnt = results_units['feedstock']\n",
    "hhv_ethanol = 29.7 # MJ/kg\n",
    "density_ethanol = 789 #kg/L\n",
    "hhv_methane = 52.2 # MJ/kg\n",
    "ethanol_kg = 50343310 * 3.78 * density_ethanol\n",
    "ethanol_MJ = ethanol_kg * hhv_ethanol\n",
    "ethanol_l = ethanol_kg/density_ethanol\n",
    "cellulose_amnt = feedconv.cellulose[feedstock]\n",
    "sugar_amnt = feedconv.cellulose[feedstock]"
   ]
  },
  {
   "cell_type": "code",
   "execution_count": 80,
   "metadata": {
    "collapsed": true
   },
   "outputs": [],
   "source": [
    "final_results = {}\n",
    "for key, value in results_units.iteritems():\n",
    "    if key == 'caoh.kg':\n",
    "        result = value/ethanol_kg\n",
    "    if key == 'cellulase_amount':\n",
    "        result = value/(cellulose_amnt*feedstock_amnt)\n",
    "    if key == 'csl.kg':\n",
    "        result = value/(sugar_amnt*feedstock_amnt)\n",
    "    if key == 'dap.kg':\n",
    "        result = value/(sugar_amnt*feedstock_amnt)\n",
    "    if key == 'electricity_requirements':\n",
    "        result = value/ethanol_kg\n",
    "    if key == 'feedstock':\n",
    "        result = value/ethanol_kg\n",
    "    if key == 'ionicLiquid_amount':\n",
    "        result = value/feedstock_amnt\n",
    "    if key == 'naoh.kg':\n",
    "        result = value/ethanol_kg\n",
    "    if key == 'ng_input_stream_MJ':\n",
    "        result = value/hhv_methane * hhv_ethanol/ethanol_kg\n",
    "    if key == 'octane_ltr':\n",
    "        result = value/ethanol_l\n",
    "    final_results.update({key:result})"
   ]
  },
  {
   "cell_type": "code",
   "execution_count": 81,
   "metadata": {},
   "outputs": [
    {
     "data": {
      "text/plain": [
       "{'caoh.kg': 2.8006280272911367e-06,\n",
       " 'cellulase_amount': 0.015982801423022927,\n",
       " 'csl.kg': 0.03178587256421225,\n",
       " 'dap.kg': 0.0039493979703411845,\n",
       " 'electricity_requirements': 0.0021505645252760013,\n",
       " 'feedstock': 0.00583511082414169,\n",
       " 'ionicLiquid_amount': 0.005759536937747384,\n",
       " 'naoh.kg': 0.0,\n",
       " 'ng_input_stream_MJ': 1.1278670699776092,\n",
       " 'octane_ltr': 0.0}"
      ]
     },
     "execution_count": 81,
     "metadata": {},
     "output_type": "execute_result"
    }
   ],
   "source": [
    "final_results"
   ]
  },
  {
   "cell_type": "code",
   "execution_count": null,
   "metadata": {
    "collapsed": true
   },
   "outputs": [],
   "source": [
    "with open('data.txt', 'w') as outfile:\n",
    "    json.dump(data, outfile)"
   ]
  },
  {
   "cell_type": "code",
   "execution_count": 82,
   "metadata": {
    "collapsed": true
   },
   "outputs": [],
   "source": []
  },
  {
   "cell_type": "code",
   "execution_count": null,
   "metadata": {
    "collapsed": true
   },
   "outputs": [],
   "source": []
  }
 ],
 "metadata": {
  "kernelspec": {
   "display_name": "Python 2",
   "language": "python",
   "name": "python2"
  },
  "language_info": {
   "codemirror_mode": {
    "name": "ipython",
    "version": 2
   },
   "file_extension": ".py",
   "mimetype": "text/x-python",
   "name": "python",
   "nbconvert_exporter": "python",
   "pygments_lexer": "ipython2",
   "version": "2.7.14"
  }
 },
 "nbformat": 4,
 "nbformat_minor": 1
}
